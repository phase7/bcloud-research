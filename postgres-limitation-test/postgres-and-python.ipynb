{
 "cells": [
  {
   "cell_type": "markdown",
   "metadata": {},
   "source": [
    "In this notebook we are going to test the pythonic way of postgres handling!"
   ]
  },
  {
   "cell_type": "code",
   "execution_count": 7,
   "metadata": {},
   "outputs": [],
   "source": [
    "import credentials as scrt\n",
    "import psycopg2"
   ]
  },
  {
   "cell_type": "markdown",
   "metadata": {},
   "source": [
    "## connect to a DB"
   ]
  },
  {
   "cell_type": "code",
   "execution_count": 9,
   "metadata": {},
   "outputs": [],
   "source": [
    "username = scrt.user\n",
    "password = scrt.passw\n",
    "test1 = psycopg2.connect(dbname=\"testinsert1\", user=username)"
   ]
  },
  {
   "cell_type": "markdown",
   "metadata": {},
   "source": [
    "## Execute a query"
   ]
  },
  {
   "cell_type": "code",
   "execution_count": 10,
   "metadata": {},
   "outputs": [],
   "source": [
    "cur = test1.cursor()"
   ]
  },
  {
   "cell_type": "code",
   "execution_count": 20,
   "metadata": {},
   "outputs": [],
   "source": [
    "cur.execute(\"SELECT * from sales1m limit 20;\")"
   ]
  },
  {
   "cell_type": "markdown",
   "metadata": {},
   "source": [
    "#### Checking result and return types"
   ]
  },
  {
   "cell_type": "code",
   "execution_count": 21,
   "metadata": {
    "collapsed": true
   },
   "outputs": [
    {
     "data": {
      "text/plain": [
       "[('Middle East and North Africa',\n",
       "  'Azerbaijan',\n",
       "  'Snacks',\n",
       "  'Online',\n",
       "  'C',\n",
       "  datetime.date(2014, 10, 8),\n",
       "  535113847,\n",
       "  datetime.date(2014, 10, 23),\n",
       "  934,\n",
       "  152.58,\n",
       "  97.44,\n",
       "  142509.72,\n",
       "  91008.96,\n",
       "  51500.76),\n",
       " ('Central America and the Caribbean',\n",
       "  'Panama',\n",
       "  'Cosmetics',\n",
       "  'Offline',\n",
       "  'L',\n",
       "  datetime.date(2015, 2, 22),\n",
       "  874708545,\n",
       "  datetime.date(2015, 2, 27),\n",
       "  4551,\n",
       "  437.2,\n",
       "  263.33,\n",
       "  1989697.2,\n",
       "  1198414.9,\n",
       "  791282.4),\n",
       " ('Sub-Saharan Africa',\n",
       "  'Sao Tome and Principe',\n",
       "  'Fruits',\n",
       "  'Offline',\n",
       "  'M',\n",
       "  datetime.date(2015, 12, 9),\n",
       "  854349935,\n",
       "  datetime.date(2016, 1, 18),\n",
       "  9986,\n",
       "  9.33,\n",
       "  6.92,\n",
       "  93169.38,\n",
       "  69103.12,\n",
       "  24066.26),\n",
       " ('Sub-Saharan Africa',\n",
       "  'Sao Tome and Principe',\n",
       "  'Personal Care',\n",
       "  'Online',\n",
       "  'M',\n",
       "  datetime.date(2014, 9, 17),\n",
       "  892836844,\n",
       "  datetime.date(2014, 10, 12),\n",
       "  9118,\n",
       "  81.73,\n",
       "  56.67,\n",
       "  745214.1,\n",
       "  516717.06,\n",
       "  228497.08),\n",
       " ('Central America and the Caribbean',\n",
       "  'Belize',\n",
       "  'Household',\n",
       "  'Offline',\n",
       "  'H',\n",
       "  datetime.date(2010, 2, 4),\n",
       "  129280602,\n",
       "  datetime.date(2010, 3, 5),\n",
       "  5858,\n",
       "  668.27,\n",
       "  502.54,\n",
       "  3914725.8,\n",
       "  2943879.2,\n",
       "  970846.3)]"
      ]
     },
     "execution_count": 21,
     "metadata": {},
     "output_type": "execute_result"
    }
   ],
   "source": [
    "cur.fetchmany(5)"
   ]
  },
  {
   "cell_type": "code",
   "execution_count": 23,
   "metadata": {},
   "outputs": [
    {
     "data": {
      "text/plain": [
       "str"
      ]
     },
     "execution_count": 23,
     "metadata": {},
     "output_type": "execute_result"
    }
   ],
   "source": [
    "type(cur.fetchmany(5)[0][4])"
   ]
  },
  {
   "cell_type": "markdown",
   "metadata": {},
   "source": [
    "### Closing the connection"
   ]
  },
  {
   "cell_type": "code",
   "execution_count": 24,
   "metadata": {},
   "outputs": [],
   "source": [
    "test1.close()"
   ]
  }
 ],
 "metadata": {
  "kernelspec": {
   "display_name": "Python 3",
   "language": "python",
   "name": "python3"
  },
  "language_info": {
   "codemirror_mode": {
    "name": "ipython",
    "version": 3
   },
   "file_extension": ".py",
   "mimetype": "text/x-python",
   "name": "python",
   "nbconvert_exporter": "python",
   "pygments_lexer": "ipython3",
   "version": "3.8.5"
  }
 },
 "nbformat": 4,
 "nbformat_minor": 4
}
