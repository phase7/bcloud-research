{
 "cells": [
  {
   "cell_type": "markdown",
   "metadata": {},
   "source": [
    "# Resources\n",
    "https://wiki.python.org/moin/DbApiCheatSheet\n",
    "\n",
    "https://medium.com/@yellowrobot.xyz/postgresql-linux-python-pycharm-recipe-be8757ca5456"
   ]
  },
  {
   "cell_type": "code",
   "execution_count": null,
   "metadata": {},
   "outputs": [],
   "source": [
    "import credentials,psycopg2\n",
    "username = credentials.user\n",
    "password = credentials.passw"
   ]
  },
  {
   "cell_type": "code",
   "execution_count": null,
   "metadata": {},
   "outputs": [],
   "source": [
    "from faker import Faker\n",
    "fake = Faker()"
   ]
  },
  {
   "cell_type": "code",
   "execution_count": null,
   "metadata": {},
   "outputs": [],
   "source": [
    "test1 = psycopg2.connect(database=\"testinsert1\", user=username)\n",
    "cur = test1.cursor()"
   ]
  },
  {
   "cell_type": "code",
   "execution_count": null,
   "metadata": {},
   "outputs": [],
   "source": [
    "sql_query1 = '''\n",
    "CREATE TABLE IF NOT EXISTS funtable( \n",
    "id BIGSERIAL,\n",
    "username VARCHAR(50) NOT NULL PRIMARY KEY,\n",
    "password VARCHAR(80) NOT NULL,\n",
    "email VARCHAR(200),\n",
    "phone BIGINT\n",
    ");\n",
    "'''"
   ]
  },
  {
   "cell_type": "markdown",
   "metadata": {},
   "source": [
    "**You have to rollback if any sql error occurs** ohterwise it will not be possible to run any other query! It will show `InFailedSqlTransaction`. \n",
    ">Let's put it in a `try` `except` block for safety!"
   ]
  },
  {
   "cell_type": "code",
   "execution_count": null,
   "metadata": {},
   "outputs": [],
   "source": [
    "try:\n",
    "    cur.execute(sql_query1)\n",
    "except InFailedSqlTransaction:\n",
    "    print('InFailedSqlTransaction error occured! Did any of your queries fail recently and you haven\\'t rolled back?')\n",
    "    print(\"Rolling back because of\", \"InFailedSqlTransaction\")\n",
    "    cur.execute(\"ROLLBACK\")"
   ]
  },
  {
   "cell_type": "code",
   "execution_count": null,
   "metadata": {},
   "outputs": [],
   "source": [
    "test1.commit()"
   ]
  },
  {
   "cell_type": "markdown",
   "metadata": {},
   "source": [
    "Let's start using the `f strings`\n",
    "https://realpython.com/python-f-strings/#f-strings-a-new-and-improved-way-to-format-strings-in-python"
   ]
  },
  {
   "cell_type": "code",
   "execution_count": null,
   "metadata": {},
   "outputs": [],
   "source": [
    "tablename = \"funtable\"\n",
    "col_header = \"username, password, email, phone\""
   ]
  },
  {
   "cell_type": "code",
   "execution_count": null,
   "metadata": {},
   "outputs": [],
   "source": [
    "p =  cur.execute(\n",
    "            f\"INSERT INTO {tablename} \"\n",
    "            f\"({col_header}) VALUES \"\n",
    "            f\"('{fake.simple_profile()['username']}', '{fake.password()}', '{fake.email()}', '{fake.msisdn()}')\")"
   ]
  },
  {
   "cell_type": "markdown",
   "metadata": {},
   "source": [
    ">After a couple of runs we get\n",
    "![insert-psycopg2](https://i.imgur.com/PeP6W4K.png)"
   ]
  },
  {
   "cell_type": "code",
   "execution_count": null,
   "metadata": {},
   "outputs": [],
   "source": [
    "sql_select_query = \"SELECT * FROM funtable\";\n",
    "\n",
    "cur.execute(sql_select_query)\n",
    "\n",
    "cur.fetchall()"
   ]
  },
  {
   "cell_type": "code",
   "execution_count": null,
   "metadata": {},
   "outputs": [],
   "source": [
    "cur.close()\n",
    "test1.close()"
   ]
  },
  {
   "cell_type": "code",
   "execution_count": null,
   "metadata": {},
   "outputs": [],
   "source": [
    "# cur.execute(\"ROLLBACK\")"
   ]
  }
 ],
 "metadata": {
  "kernelspec": {
   "display_name": "Python 3",
   "language": "python",
   "name": "python3"
  },
  "language_info": {
   "codemirror_mode": {
    "name": "ipython",
    "version": 3
   },
   "file_extension": ".py",
   "mimetype": "text/x-python",
   "name": "python",
   "nbconvert_exporter": "python",
   "pygments_lexer": "ipython3",
   "version": "3.8.5"
  }
 },
 "nbformat": 4,
 "nbformat_minor": 4
}
